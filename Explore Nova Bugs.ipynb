{
 "cells": [
  {
   "cell_type": "markdown",
   "metadata": {},
   "source": [
    "# Exploration of Nova Bugs\n",
    "\n",
    "This notebook is part of an overall experiment looking at the ability\n",
    "to algorithmically (through tuned algorithms and machine learning techniques)\n",
    "process large backlogs of bugs in Open Source Projects. One of the key \n",
    "challenges to maintainer burn out is an ever increasing pile of bugs that\n",
    "often represent the same or similar issues, and take far too much human\n",
    "time to keep on top of.\n",
    "\n",
    "This work is done with the OpenStack Nova project as a starting point because\n",
    "I've personally looked at 2000 - 4000 of the total 13000 in the backlog over \n",
    "the years, so have grounding on what is important and what is not. The intent\n",
    "is to use this to develop approaches that could be expanded to other projects.\n",
    "\n",
    "## Bug Processing Pipeline\n",
    "\n",
    "The bugs for Nova are stored in launchpad. There is an API to extract bugs, \n",
    "but it is extremely slow. A extract of the fields required for Nova's 13K bugs takes\n",
    "6 - 8 hours. As such, an extract is provided in `bugs/nova/2017-10-11` as a series\n",
    "of json files.\n",
    "\n",
    "In order to make adhoc query of these bugs easier, they are then loaded into a\n",
    "`mongodb` database. In order to replicate this notebook you will need to install\n",
    "mongodb locally. On Ubuntu/Debian Linux this is done with:\n",
    "\n",
    "```\n",
    "  sudo apt-get install mongodb\n",
    "  sudo systemctrl start mongodb\n",
    "```\n"
   ]
  },
  {
   "cell_type": "code",
   "execution_count": 40,
   "metadata": {},
   "outputs": [
    {
     "data": {
      "text/plain": [
       "13236"
      ]
     },
     "execution_count": 40,
     "metadata": {},
     "output_type": "execute_result"
    }
   ],
   "source": [
    "# Run this to get a base loaded\n",
    "\n",
    "import pymongo\n",
    "from pymongo import MongoClient\n",
    "import json\n",
    "import glob\n",
    "\n",
    "client = MongoClient()\n",
    "\n",
    "db = client.test_database\n",
    "bugs = db.bugs\n",
    "# Drop any existing db to ensure that we don't have data from a past run\n",
    "bugs.drop()\n",
    "# Creating this index ensures no duplicate entries can get in\n",
    "bugs.create_index([('id', pymongo.ASCENDING)], unique=True)\n",
    "\n",
    "\n",
    "def load_bugs_into_db():\n",
    "    for file in glob.glob(\"bugs/nova/2017-10-11/*.json\"):\n",
    "        with open(file) as f:\n",
    "            bug = json.loads(f.read())\n",
    "            bugs.insert_one(bug)\n",
    "            \n",
    "load_bugs_into_db()\n",
    "bugs.count()"
   ]
  },
  {
   "cell_type": "code",
   "execution_count": null,
   "metadata": {},
   "outputs": [],
   "source": [
    "%matplotlib inline\n",
    "import pandas as pd\n",
    "\n",
    "# Make a query to the specific DB and Collection\n",
    "cursor = bugs.find()\n",
    "\n",
    "# Expand the cursor and construct the DataFrame\n",
    "df =  pd.DataFrame(list(cursor))\n",
    "\n",
    "df.head()\n",
    "df['created'] =  pd.to_datetime(df['created'])\n",
    "df.head()\n",
    "df.index = df['created']\n",
    "df.head()"
   ]
  },
  {
   "cell_type": "code",
   "execution_count": 101,
   "metadata": {},
   "outputs": [
    {
     "data": {
      "text/html": [
       "<div>\n",
       "<style>\n",
       "    .dataframe thead tr:only-child th {\n",
       "        text-align: right;\n",
       "    }\n",
       "\n",
       "    .dataframe thead th {\n",
       "        text-align: left;\n",
       "    }\n",
       "\n",
       "    .dataframe tbody tr th {\n",
       "        vertical-align: top;\n",
       "    }\n",
       "</style>\n",
       "<table border=\"1\" class=\"dataframe\">\n",
       "  <thead>\n",
       "    <tr style=\"text-align: right;\">\n",
       "      <th></th>\n",
       "      <th>id</th>\n",
       "    </tr>\n",
       "  </thead>\n",
       "  <tbody>\n",
       "    <tr>\n",
       "      <th>count</th>\n",
       "      <td>392.000000</td>\n",
       "    </tr>\n",
       "    <tr>\n",
       "      <th>mean</th>\n",
       "      <td>33.765306</td>\n",
       "    </tr>\n",
       "    <tr>\n",
       "      <th>std</th>\n",
       "      <td>17.100456</td>\n",
       "    </tr>\n",
       "    <tr>\n",
       "      <th>min</th>\n",
       "      <td>0.000000</td>\n",
       "    </tr>\n",
       "    <tr>\n",
       "      <th>25%</th>\n",
       "      <td>23.000000</td>\n",
       "    </tr>\n",
       "    <tr>\n",
       "      <th>50%</th>\n",
       "      <td>32.000000</td>\n",
       "    </tr>\n",
       "    <tr>\n",
       "      <th>75%</th>\n",
       "      <td>44.000000</td>\n",
       "    </tr>\n",
       "    <tr>\n",
       "      <th>max</th>\n",
       "      <td>89.000000</td>\n",
       "    </tr>\n",
       "  </tbody>\n",
       "</table>\n",
       "</div>"
      ],
      "text/plain": [
       "               id\n",
       "count  392.000000\n",
       "mean    33.765306\n",
       "std     17.100456\n",
       "min      0.000000\n",
       "25%     23.000000\n",
       "50%     32.000000\n",
       "75%     44.000000\n",
       "max     89.000000"
      ]
     },
     "execution_count": 101,
     "metadata": {},
     "output_type": "execute_result"
    }
   ],
   "source": [
    "df2 = df.resample('w').count()[['id']]\n",
    "df2.describe()"
   ]
  },
  {
   "cell_type": "code",
   "execution_count": 102,
   "metadata": {},
   "outputs": [
    {
     "data": {
      "image/png": "[encoded data removed]",
      "text/plain": [
       "<matplotlib.figure.Figure at 0x7f5b1531fa58>"
      ]
     },
     "metadata": {},
     "output_type": "display_data"
    }
   ],
   "source": [
    "import matplotlib.pyplot as plt\n",
    "import matplotlib\n",
    "import matplotlib.dates as dates\n",
    "matplotlib.style.use('ggplot')\n",
    "\n",
    "# Do a dateplot of the bugs to ensure that we're not missing anything, these are binned by week.\n",
    "\n",
    "ax = plt.subplot()\n",
    "ax.bar(df2.index.to_pydatetime(), df2.id, width=10)\n",
    "ax.xaxis_date()"
   ]
  },
  {
   "cell_type": "code",
   "execution_count": 104,
   "metadata": {},
   "outputs": [
    {
     "data": {
      "text/html": [
       "<div>\n",
       "<style>\n",
       "    .dataframe thead tr:only-child th {\n",
       "        text-align: right;\n",
       "    }\n",
       "\n",
       "    .dataframe thead th {\n",
       "        text-align: left;\n",
       "    }\n",
       "\n",
       "    .dataframe tbody tr th {\n",
       "        vertical-align: top;\n",
       "    }\n",
       "</style>\n",
       "<table border=\"1\" class=\"dataframe\">\n",
       "  <thead>\n",
       "    <tr style=\"text-align: right;\">\n",
       "      <th></th>\n",
       "      <th>created</th>\n",
       "      <th>id</th>\n",
       "      <th>tag</th>\n",
       "    </tr>\n",
       "  </thead>\n",
       "  <tbody>\n",
       "    <tr>\n",
       "      <th>0</th>\n",
       "      <td>2015-11-18 08:43:56.990077+00:00</td>\n",
       "      <td>1517367</td>\n",
       "      <td>xenserver</td>\n",
       "    </tr>\n",
       "    <tr>\n",
       "      <th>1</th>\n",
       "      <td>2013-08-24 01:33:20.672518+00:00</td>\n",
       "      <td>1216176</td>\n",
       "      <td>api</td>\n",
       "    </tr>\n",
       "    <tr>\n",
       "      <th>2</th>\n",
       "      <td>2012-08-24 01:18:12.859503+00:00</td>\n",
       "      <td>1040956</td>\n",
       "      <td>quantum</td>\n",
       "    </tr>\n",
       "    <tr>\n",
       "      <th>3</th>\n",
       "      <td>2017-02-02 10:04:09.662955+00:00</td>\n",
       "      <td>1661195</td>\n",
       "      <td>api</td>\n",
       "    </tr>\n",
       "    <tr>\n",
       "      <th>4</th>\n",
       "      <td>2013-12-09 17:45:15.504424+00:00</td>\n",
       "      <td>1259262</td>\n",
       "      <td>api</td>\n",
       "    </tr>\n",
       "  </tbody>\n",
       "</table>\n",
       "</div>"
      ],
      "text/plain": [
       "                            created       id        tag\n",
       "0  2015-11-18 08:43:56.990077+00:00  1517367  xenserver\n",
       "1  2013-08-24 01:33:20.672518+00:00  1216176        api\n",
       "2  2012-08-24 01:18:12.859503+00:00  1040956    quantum\n",
       "3  2017-02-02 10:04:09.662955+00:00  1661195        api\n",
       "4  2013-12-09 17:45:15.504424+00:00  1259262        api"
      ]
     },
     "execution_count": 104,
     "metadata": {},
     "output_type": "execute_result"
    }
   ],
   "source": [
    "# Make a query to the specific DB and Collection\n",
    "cursor = bugs.find()\n",
    "\n",
    "# Expand the cursor and construct the DataFrame, we need to do some unrolling because tags are nested\n",
    "all_bugs = list(cursor)\n",
    "all_tags = []\n",
    "for bug in all_bugs:\n",
    "    for tag in bug['tags']:\n",
    "        all_tags.append(\n",
    "            {\"created\": bug[\"created\"],\n",
    "             \"tag\": tag,\n",
    "             \"id\": bug[\"id\"]}\n",
    "        )\n",
    "df_tags = pd.DataFrame(all_tags)\n",
    "df_tags.head()"
   ]
  },
  {
   "cell_type": "code",
   "execution_count": 108,
   "metadata": {},
   "outputs": [
    {
     "name": "stdout",
     "output_type": "stream",
     "text": [
      "api        727\n",
      "libvirt    687\n",
      "compute    492\n",
      "network    403\n",
      "vmware     403\n",
      "Name: tag, dtype: int64\n"
     ]
    },
    {
     "data": {
      "text/plain": [
       "count    866.000000\n",
       "mean      13.047344\n",
       "std       52.785366\n",
       "min        1.000000\n",
       "25%        1.000000\n",
       "50%        1.000000\n",
       "75%        4.000000\n",
       "max      727.000000\n",
       "Name: tag, dtype: float64"
      ]
     },
     "execution_count": 108,
     "metadata": {},
     "output_type": "execute_result"
    }
   ],
   "source": [
    "df_tags.count()\n",
    "df_tag_counts = df_tags.tag.value_counts()\n",
    "print(df_tag_counts.head())\n",
    "df_tag_counts.describe()"
   ]
  },
  {
   "cell_type": "code",
   "execution_count": null,
   "metadata": {},
   "outputs": [],
   "source": []
  }
 ],
 "metadata": {
  "kernelspec": {
   "display_name": "Python 3",
   "language": "python",
   "name": "python3"
  },
  "language_info": {
   "codemirror_mode": {
    "name": "ipython",
    "version": 3
   },
   "file_extension": ".py",
   "mimetype": "text/x-python",
   "name": "python",
   "nbconvert_exporter": "python",
   "pygments_lexer": "ipython3",
   "version": "3.5.3"
  }
 },
 "nbformat": 4,
 "nbformat_minor": 2
}
